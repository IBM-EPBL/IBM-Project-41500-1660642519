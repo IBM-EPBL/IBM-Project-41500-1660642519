{
 "cells": [
  {
   "cell_type": "markdown",
   "id": "efb45668",
   "metadata": {
    "papermill": {
     "duration": 0.008651,
     "end_time": "2022-09-23T09:15:48.676394",
     "exception": false,
     "start_time": "2022-09-23T09:15:48.667743",
     "status": "completed"
    },
    "tags": []
   },
   "source": [
    "# Basic Python\n",
    "# 1. Split this string"
   ]
  },
  {
   "cell_type": "code",
   "execution_count": 1,
   "id": "c9959dec",
   "metadata": {
    "execution": {
     "iopub.execute_input": "2022-09-23T09:15:48.694529Z",
     "iopub.status.busy": "2022-09-23T09:15:48.693840Z",
     "iopub.status.idle": "2022-09-23T09:15:48.718282Z",
     "shell.execute_reply": "2022-09-23T09:15:48.716262Z"
    },
    "papermill": {
     "duration": 0.037477,
     "end_time": "2022-09-23T09:15:48.721728",
     "exception": false,
     "start_time": "2022-09-23T09:15:48.684251",
     "status": "completed"
    },
    "tags": []
   },
   "outputs": [
    {
     "data": {
      "text/plain": [
       "['Hi', 'there', 'dad!']"
      ]
     },
     "execution_count": 1,
     "metadata": {},
     "output_type": "execute_result"
    }
   ],
   "source": [
    "s = \"Hi there Sam!\"\n",
    "s.split()\n",
    "['Hi', 'there', 'dad!']"
   ]
  },
  {
   "cell_type": "code",
   "execution_count": 2,
   "id": "b3cd0d74",
   "metadata": {
    "execution": {
     "iopub.execute_input": "2022-09-23T09:15:48.739870Z",
     "iopub.status.busy": "2022-09-23T09:15:48.738148Z",
     "iopub.status.idle": "2022-09-23T09:15:48.746610Z",
     "shell.execute_reply": "2022-09-23T09:15:48.745115Z"
    },
    "papermill": {
     "duration": 0.022503,
     "end_time": "2022-09-23T09:15:48.751491",
     "exception": false,
     "start_time": "2022-09-23T09:15:48.728988",
     "status": "completed"
    },
    "tags": []
   },
   "outputs": [
    {
     "name": "stdout",
     "output_type": "stream",
     "text": [
      "\n"
     ]
    }
   ],
   "source": [
    "print()"
   ]
  },
  {
   "cell_type": "markdown",
   "id": "69fc48c8",
   "metadata": {
    "papermill": {
     "duration": 0.007398,
     "end_time": "2022-09-23T09:15:48.766745",
     "exception": false,
     "start_time": "2022-09-23T09:15:48.759347",
     "status": "completed"
    },
    "tags": []
   },
   "source": [
    "# 2. Use .format() to print the following string.\n",
    "# Output should be: The diameter of Earth is 12742 kilometers."
   ]
  },
  {
   "cell_type": "code",
   "execution_count": 3,
   "id": "b0ee7832",
   "metadata": {
    "execution": {
     "iopub.execute_input": "2022-09-23T09:15:48.784211Z",
     "iopub.status.busy": "2022-09-23T09:15:48.783048Z",
     "iopub.status.idle": "2022-09-23T09:15:48.790001Z",
     "shell.execute_reply": "2022-09-23T09:15:48.788731Z"
    },
    "papermill": {
     "duration": 0.019829,
     "end_time": "2022-09-23T09:15:48.794287",
     "exception": false,
     "start_time": "2022-09-23T09:15:48.774458",
     "status": "completed"
    },
    "tags": []
   },
   "outputs": [
    {
     "name": "stdout",
     "output_type": "stream",
     "text": [
      "The diameter of Earth is 12742 kilometers.\n"
     ]
    }
   ],
   "source": [
    "planet = \"Earth\"\n",
    "diameter = 12742\n",
    "print(\"The diameter of {} is {} kilometers.\".format(planet,diameter))"
   ]
  },
  {
   "cell_type": "code",
   "execution_count": 4,
   "id": "e8c68db1",
   "metadata": {
    "execution": {
     "iopub.execute_input": "2022-09-23T09:15:48.811178Z",
     "iopub.status.busy": "2022-09-23T09:15:48.810741Z",
     "iopub.status.idle": "2022-09-23T09:15:48.818786Z",
     "shell.execute_reply": "2022-09-23T09:15:48.816352Z"
    },
    "papermill": {
     "duration": 0.021654,
     "end_time": "2022-09-23T09:15:48.823045",
     "exception": false,
     "start_time": "2022-09-23T09:15:48.801391",
     "status": "completed"
    },
    "tags": []
   },
   "outputs": [
    {
     "name": "stdout",
     "output_type": "stream",
     "text": [
      "\n"
     ]
    }
   ],
   "source": [
    "print()"
   ]
  },
  {
   "cell_type": "markdown",
   "id": "5dfd2304",
   "metadata": {
    "papermill": {
     "duration": 0.006404,
     "end_time": "2022-09-23T09:15:48.838157",
     "exception": false,
     "start_time": "2022-09-23T09:15:48.831753",
     "status": "completed"
    },
    "tags": []
   },
   "source": []
  },
  {
   "cell_type": "markdown",
   "id": "03ebc405",
   "metadata": {
    "papermill": {
     "duration": 0.007293,
     "end_time": "2022-09-23T09:15:48.853000",
     "exception": false,
     "start_time": "2022-09-23T09:15:48.845707",
     "status": "completed"
    },
    "tags": []
   },
   "source": [
    "# 3. In this nest dictionary grab the word \"hello\""
   ]
  },
  {
   "cell_type": "code",
   "execution_count": 5,
   "id": "1f9a2cf4",
   "metadata": {
    "execution": {
     "iopub.execute_input": "2022-09-23T09:15:48.872333Z",
     "iopub.status.busy": "2022-09-23T09:15:48.871196Z",
     "iopub.status.idle": "2022-09-23T09:15:48.880486Z",
     "shell.execute_reply": "2022-09-23T09:15:48.878719Z"
    },
    "papermill": {
     "duration": 0.021255,
     "end_time": "2022-09-23T09:15:48.882852",
     "exception": true,
     "start_time": "2022-09-23T09:15:48.861597",
     "status": "failed"
    },
    "tags": []
   },
   "outputs": [
    {
     "ename": "SyntaxError",
     "evalue": "unexpected EOF while parsing (37499169.py, line 2)",
     "output_type": "error",
     "traceback": [
      "\u001b[0;36m  File \u001b[0;32m\"/tmp/ipykernel_19/37499169.py\"\u001b[0;36m, line \u001b[0;32m2\u001b[0m\n\u001b[0;31m    d['K1'][3]['tricky'][3]['target'[3]\u001b[0m\n\u001b[0m                                       ^\u001b[0m\n\u001b[0;31mSyntaxError\u001b[0m\u001b[0;31m:\u001b[0m unexpected EOF while parsing\n"
     ]
    }
   ],
   "source": [
    "d = {'k1':[1,2,3,{'tricky':['oh','man','inception',{'target':[1,2,3,'hello']}]}]}\n",
    "d['K1'][3]['tricky'][3]['target'[3]"
   ]
  },
  {
   "cell_type": "markdown",
   "id": "c22a6194",
   "metadata": {
    "papermill": {
     "duration": null,
     "end_time": null,
     "exception": null,
     "start_time": null,
     "status": "pending"
    },
    "tags": []
   },
   "source": []
  },
  {
   "cell_type": "code",
   "execution_count": null,
   "id": "dd529700",
   "metadata": {
    "papermill": {
     "duration": null,
     "end_time": null,
     "exception": null,
     "start_time": null,
     "status": "pending"
    },
    "tags": []
   },
   "outputs": [],
   "source": [
    "print()"
   ]
  },
  {
   "cell_type": "markdown",
   "id": "5189bfd6",
   "metadata": {
    "papermill": {
     "duration": null,
     "end_time": null,
     "exception": null,
     "start_time": null,
     "status": "pending"
    },
    "tags": []
   },
   "source": []
  },
  {
   "cell_type": "markdown",
   "id": "086c2979",
   "metadata": {
    "papermill": {
     "duration": null,
     "end_time": null,
     "exception": null,
     "start_time": null,
     "status": "pending"
    },
    "tags": []
   },
   "source": [
    "# Numpy"
   ]
  },
  {
   "cell_type": "code",
   "execution_count": null,
   "id": "e7d91c22",
   "metadata": {
    "papermill": {
     "duration": null,
     "end_time": null,
     "exception": null,
     "start_time": null,
     "status": "pending"
    },
    "tags": []
   },
   "outputs": [],
   "source": [
    "import numpy as np"
   ]
  },
  {
   "cell_type": "markdown",
   "id": "fc033e93",
   "metadata": {
    "papermill": {
     "duration": null,
     "end_time": null,
     "exception": null,
     "start_time": null,
     "status": "pending"
    },
    "tags": []
   },
   "source": [
    "# 4.1 Create an array of 10 zeros?\n",
    "# 4.2 Create an array of 10 fives?"
   ]
  },
  {
   "cell_type": "markdown",
   "id": "5c20a88f",
   "metadata": {
    "papermill": {
     "duration": null,
     "end_time": null,
     "exception": null,
     "start_time": null,
     "status": "pending"
    },
    "tags": []
   },
   "source": []
  },
  {
   "cell_type": "code",
   "execution_count": null,
   "id": "cc657de3",
   "metadata": {
    "papermill": {
     "duration": null,
     "end_time": null,
     "exception": null,
     "start_time": null,
     "status": "pending"
    },
    "tags": []
   },
   "outputs": [],
   "source": [
    "imoport numpy as np\n",
    "array=np.zeros(10)\n",
    "print(\"An array of 10 zeros:\")\n",
    "print(array)\n",
    "array=np.ones(10)*5\n",
    "print(\"An array of 10 fives:\")\n",
    "print(array)"
   ]
  },
  {
   "cell_type": "code",
   "execution_count": null,
   "id": "ec23df09",
   "metadata": {
    "papermill": {
     "duration": null,
     "end_time": null,
     "exception": null,
     "start_time": null,
     "status": "pending"
    },
    "tags": []
   },
   "outputs": [],
   "source": [
    "print()"
   ]
  },
  {
   "cell_type": "markdown",
   "id": "f3e63316",
   "metadata": {
    "papermill": {
     "duration": null,
     "end_time": null,
     "exception": null,
     "start_time": null,
     "status": "pending"
    },
    "tags": []
   },
   "source": [
    "# 5. Create an array of all the even integers from 20 to 35"
   ]
  },
  {
   "cell_type": "code",
   "execution_count": null,
   "id": "b733e33f",
   "metadata": {
    "papermill": {
     "duration": null,
     "end_time": null,
     "exception": null,
     "start_time": null,
     "status": "pending"
    },
    "tags": []
   },
   "outputs": [],
   "source": [
    "import numpy as np\n",
    "array=np.arrange(20,36,2)\n",
    "print(\"Array of all the even integers from 20 to 35\")\n",
    "print(array)"
   ]
  },
  {
   "cell_type": "markdown",
   "id": "c5aed606",
   "metadata": {
    "papermill": {
     "duration": null,
     "end_time": null,
     "exception": null,
     "start_time": null,
     "status": "pending"
    },
    "tags": []
   },
   "source": [
    "# 6. Create a 3x3 matrix with values ranging from 0 to 8"
   ]
  },
  {
   "cell_type": "code",
   "execution_count": null,
   "id": "161fefe9",
   "metadata": {
    "papermill": {
     "duration": null,
     "end_time": null,
     "exception": null,
     "start_time": null,
     "status": "pending"
    },
    "tags": []
   },
   "outputs": [],
   "source": [
    "np.arrange(0,9).reshape((3,3))\n",
    "array([[0,1,2],\n",
    "       [3,4,5],\n",
    "       [6,7,8]])"
   ]
  },
  {
   "cell_type": "markdown",
   "id": "eee5e235",
   "metadata": {
    "papermill": {
     "duration": null,
     "end_time": null,
     "exception": null,
     "start_time": null,
     "status": "pending"
    },
    "tags": []
   },
   "source": [
    "# 7. Concatinate a and b\n",
    "# a = np.array([1, 2, 3]), b = np.array([4, 5, 6])"
   ]
  },
  {
   "cell_type": "code",
   "execution_count": null,
   "id": "82a15d31",
   "metadata": {
    "papermill": {
     "duration": null,
     "end_time": null,
     "exception": null,
     "start_time": null,
     "status": "pending"
    },
    "tags": []
   },
   "outputs": [],
   "source": [
    "import numpy as np\n",
    "a=np.array([1,2,3])\n",
    "b=np.array([4,5,6])\n",
    "arr=np.concatinate((a,b))\n",
    "print(arr)"
   ]
  },
  {
   "cell_type": "markdown",
   "id": "637cdbbe",
   "metadata": {
    "papermill": {
     "duration": null,
     "end_time": null,
     "exception": null,
     "start_time": null,
     "status": "pending"
    },
    "tags": []
   },
   "source": [
    "# Pandas\n",
    "# 8. Create a dataframe with 3 rows and 2 columns"
   ]
  },
  {
   "cell_type": "code",
   "execution_count": null,
   "id": "4fcacae0",
   "metadata": {
    "papermill": {
     "duration": null,
     "end_time": null,
     "exception": null,
     "start_time": null,
     "status": "pending"
    },
    "tags": []
   },
   "outputs": [],
   "source": [
    "import pandas as pd\n",
    "df = pd.DataFrame()\n",
    "print(df)"
   ]
  },
  {
   "cell_type": "code",
   "execution_count": null,
   "id": "411c2aea",
   "metadata": {
    "papermill": {
     "duration": null,
     "end_time": null,
     "exception": null,
     "start_time": null,
     "status": "pending"
    },
    "tags": []
   },
   "outputs": [],
   "source": [
    "print()"
   ]
  },
  {
   "cell_type": "markdown",
   "id": "5788ef12",
   "metadata": {
    "papermill": {
     "duration": null,
     "end_time": null,
     "exception": null,
     "start_time": null,
     "status": "pending"
    },
    "tags": []
   },
   "source": [
    "# 9. Generate the series of dates from 1st Jan, 2023 to 10th Feb, 2023"
   ]
  },
  {
   "cell_type": "code",
   "execution_count": null,
   "id": "bdaa2e71",
   "metadata": {
    "papermill": {
     "duration": null,
     "end_time": null,
     "exception": null,
     "start_time": null,
     "status": "pending"
    },
    "tags": []
   },
   "outputs": [],
   "source": [
    "import datatime\n",
    "import pandas as pd\n",
    "test_date = datetime.datetime.strptime(\"01-1-2023\", \"%d-%m-%y\")\n",
    "K=10\n",
    "date-generated = pd.date_range(test_date, periods=K)\n",
    "print(date_generated.strftime(\"%d-%m-%y\"))\n"
   ]
  },
  {
   "cell_type": "markdown",
   "id": "2bdb125d",
   "metadata": {
    "papermill": {
     "duration": null,
     "end_time": null,
     "exception": null,
     "start_time": null,
     "status": "pending"
    },
    "tags": []
   },
   "source": [
    "# 10. Create 2D list to DataFrame\n",
    "# lists = [[1, 'aaa', 22], [2, 'bbb', 25], [3, 'ccc', 24]]"
   ]
  },
  {
   "cell_type": "code",
   "execution_count": null,
   "id": "0038c3cb",
   "metadata": {
    "papermill": {
     "duration": null,
     "end_time": null,
     "exception": null,
     "start_time": null,
     "status": "pending"
    },
    "tags": []
   },
   "outputs": [],
   "source": [
    "lists = [[1, 'aaa', 22], [2, 'bbb', 25], [3, 'ccc', 24]]\n",
    "df=pd.DataFrame(1st, columns = ['Tag', 'number'])"
   ]
  },
  {
   "cell_type": "code",
   "execution_count": null,
   "id": "38009c2a",
   "metadata": {
    "papermill": {
     "duration": null,
     "end_time": null,
     "exception": null,
     "start_time": null,
     "status": "pending"
    },
    "tags": []
   },
   "outputs": [],
   "source": [
    "print(df)"
   ]
  }
 ],
 "metadata": {
  "kernelspec": {
   "display_name": "Python 3",
   "language": "python",
   "name": "python3"
  },
  "language_info": {
   "codemirror_mode": {
    "name": "ipython",
    "version": 3
   },
   "file_extension": ".py",
   "mimetype": "text/x-python",
   "name": "python",
   "nbconvert_exporter": "python",
   "pygments_lexer": "ipython3",
   "version": "3.7.12"
  },
  "papermill": {
   "default_parameters": {},
   "duration": 14.158396,
   "end_time": "2022-09-23T09:15:49.818003",
   "environment_variables": {},
   "exception": true,
   "input_path": "__notebook__.ipynb",
   "output_path": "__notebook__.ipynb",
   "parameters": {},
   "start_time": "2022-09-23T09:15:35.659607",
   "version": "2.3.4"
  }
 },
 "nbformat": 4,
 "nbformat_minor": 5
}
